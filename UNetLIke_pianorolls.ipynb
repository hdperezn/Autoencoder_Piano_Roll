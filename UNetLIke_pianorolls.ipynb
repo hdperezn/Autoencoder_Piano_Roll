{
  "nbformat": 4,
  "nbformat_minor": 0,
  "metadata": {
    "colab": {
      "provenance": [],
      "authorship_tag": "ABX9TyNKYE/YV1nOEqjdeHwmVPKn",
      "include_colab_link": true
    },
    "kernelspec": {
      "name": "python3",
      "display_name": "Python 3"
    },
    "language_info": {
      "name": "python"
    }
  },
  "cells": [
    {
      "cell_type": "markdown",
      "metadata": {
        "id": "view-in-github",
        "colab_type": "text"
      },
      "source": [
        "<a href=\"https://colab.research.google.com/github/hdperezn/MIDI_functions/blob/main/UNetLIke_pianorolls.ipynb\" target=\"_parent\"><img src=\"https://colab.research.google.com/assets/colab-badge.svg\" alt=\"Open In Colab\"/></a>"
      ]
    },
    {
      "cell_type": "markdown",
      "metadata": {
        "id": "P1QhyS-a7n7b"
      },
      "source": [
        "#setup"
      ]
    },
    {
      "cell_type": "code",
      "execution_count": 1,
      "metadata": {
        "colab": {
          "base_uri": "https://localhost:8080/"
        },
        "id": "qLcrvFqm6CUi",
        "outputId": "8bb7196c-d34f-41b3-c624-c64d054b7d4f"
      },
      "outputs": [
        {
          "output_type": "stream",
          "name": "stdout",
          "text": [
            "Mounted at /content/drive\n"
          ]
        }
      ],
      "source": [
        "from google.colab import drive\n",
        "drive.mount('/content/drive')"
      ]
    },
    {
      "cell_type": "code",
      "source": [
        "!pip install -U git+https://github.com/UN-GCPDS/python-gcpds.image_segmentation.git\n",
        "from gcpds.image_segmentation.losses import DiceCoefficient"
      ],
      "metadata": {
        "id": "ObrteJhg0_lF",
        "colab": {
          "base_uri": "https://localhost:8080/"
        },
        "outputId": "a75a8e83-11fb-41d5-cd2d-8b915c81d524"
      },
      "execution_count": 2,
      "outputs": [
        {
          "output_type": "stream",
          "name": "stdout",
          "text": [
            "Looking in indexes: https://pypi.org/simple, https://us-python.pkg.dev/colab-wheels/public/simple/\n",
            "Collecting git+https://github.com/UN-GCPDS/python-gcpds.image_segmentation.git\n",
            "  Cloning https://github.com/UN-GCPDS/python-gcpds.image_segmentation.git to /tmp/pip-req-build-7l6vgcn0\n",
            "  Running command git clone --filter=blob:none --quiet https://github.com/UN-GCPDS/python-gcpds.image_segmentation.git /tmp/pip-req-build-7l6vgcn0\n",
            "  Resolved https://github.com/UN-GCPDS/python-gcpds.image_segmentation.git to commit 537c809aed21aba452a28716370b343501633e3c\n",
            "  Preparing metadata (setup.py) ... \u001b[?25l\u001b[?25hdone\n",
            "Requirement already satisfied: scikit-image in /usr/local/lib/python3.9/dist-packages (from gcpds-image-segmentation==0.1a0) (0.19.3)\n",
            "Requirement already satisfied: matplotlib in /usr/local/lib/python3.9/dist-packages (from gcpds-image-segmentation==0.1a0) (3.7.1)\n",
            "Requirement already satisfied: gdown in /usr/local/lib/python3.9/dist-packages (from gcpds-image-segmentation==0.1a0) (4.4.0)\n",
            "Requirement already satisfied: opencv-python in /usr/local/lib/python3.9/dist-packages (from gcpds-image-segmentation==0.1a0) (4.6.0.66)\n",
            "Requirement already satisfied: scikit-learn in /usr/local/lib/python3.9/dist-packages (from gcpds-image-segmentation==0.1a0) (1.2.2)\n",
            "Requirement already satisfied: filelock in /usr/local/lib/python3.9/dist-packages (from gdown->gcpds-image-segmentation==0.1a0) (3.9.1)\n",
            "Requirement already satisfied: tqdm in /usr/local/lib/python3.9/dist-packages (from gdown->gcpds-image-segmentation==0.1a0) (4.65.0)\n",
            "Requirement already satisfied: six in /usr/local/lib/python3.9/dist-packages (from gdown->gcpds-image-segmentation==0.1a0) (1.15.0)\n",
            "Requirement already satisfied: requests[socks] in /usr/local/lib/python3.9/dist-packages (from gdown->gcpds-image-segmentation==0.1a0) (2.25.1)\n",
            "Requirement already satisfied: beautifulsoup4 in /usr/local/lib/python3.9/dist-packages (from gdown->gcpds-image-segmentation==0.1a0) (4.9.3)\n",
            "Requirement already satisfied: python-dateutil>=2.7 in /usr/local/lib/python3.9/dist-packages (from matplotlib->gcpds-image-segmentation==0.1a0) (2.8.2)\n",
            "Requirement already satisfied: packaging>=20.0 in /usr/local/lib/python3.9/dist-packages (from matplotlib->gcpds-image-segmentation==0.1a0) (23.0)\n",
            "Requirement already satisfied: pyparsing>=2.3.1 in /usr/local/lib/python3.9/dist-packages (from matplotlib->gcpds-image-segmentation==0.1a0) (3.0.9)\n",
            "Requirement already satisfied: numpy>=1.20 in /usr/local/lib/python3.9/dist-packages (from matplotlib->gcpds-image-segmentation==0.1a0) (1.22.4)\n",
            "Requirement already satisfied: importlib-resources>=3.2.0 in /usr/local/lib/python3.9/dist-packages (from matplotlib->gcpds-image-segmentation==0.1a0) (5.12.0)\n",
            "Requirement already satisfied: pillow>=6.2.0 in /usr/local/lib/python3.9/dist-packages (from matplotlib->gcpds-image-segmentation==0.1a0) (8.4.0)\n",
            "Requirement already satisfied: fonttools>=4.22.0 in /usr/local/lib/python3.9/dist-packages (from matplotlib->gcpds-image-segmentation==0.1a0) (4.39.0)\n",
            "Requirement already satisfied: kiwisolver>=1.0.1 in /usr/local/lib/python3.9/dist-packages (from matplotlib->gcpds-image-segmentation==0.1a0) (1.4.4)\n",
            "Requirement already satisfied: cycler>=0.10 in /usr/local/lib/python3.9/dist-packages (from matplotlib->gcpds-image-segmentation==0.1a0) (0.11.0)\n",
            "Requirement already satisfied: contourpy>=1.0.1 in /usr/local/lib/python3.9/dist-packages (from matplotlib->gcpds-image-segmentation==0.1a0) (1.0.7)\n",
            "Requirement already satisfied: imageio>=2.4.1 in /usr/local/lib/python3.9/dist-packages (from scikit-image->gcpds-image-segmentation==0.1a0) (2.9.0)\n",
            "Requirement already satisfied: tifffile>=2019.7.26 in /usr/local/lib/python3.9/dist-packages (from scikit-image->gcpds-image-segmentation==0.1a0) (2023.2.28)\n",
            "Requirement already satisfied: networkx>=2.2 in /usr/local/lib/python3.9/dist-packages (from scikit-image->gcpds-image-segmentation==0.1a0) (3.0)\n",
            "Requirement already satisfied: scipy>=1.4.1 in /usr/local/lib/python3.9/dist-packages (from scikit-image->gcpds-image-segmentation==0.1a0) (1.10.1)\n",
            "Requirement already satisfied: PyWavelets>=1.1.1 in /usr/local/lib/python3.9/dist-packages (from scikit-image->gcpds-image-segmentation==0.1a0) (1.4.1)\n",
            "Requirement already satisfied: joblib>=1.1.1 in /usr/local/lib/python3.9/dist-packages (from scikit-learn->gcpds-image-segmentation==0.1a0) (1.1.1)\n",
            "Requirement already satisfied: threadpoolctl>=2.0.0 in /usr/local/lib/python3.9/dist-packages (from scikit-learn->gcpds-image-segmentation==0.1a0) (3.1.0)\n",
            "Requirement already satisfied: zipp>=3.1.0 in /usr/local/lib/python3.9/dist-packages (from importlib-resources>=3.2.0->matplotlib->gcpds-image-segmentation==0.1a0) (3.15.0)\n",
            "Requirement already satisfied: soupsieve>1.2 in /usr/local/lib/python3.9/dist-packages (from beautifulsoup4->gdown->gcpds-image-segmentation==0.1a0) (2.4)\n",
            "Requirement already satisfied: idna<3,>=2.5 in /usr/local/lib/python3.9/dist-packages (from requests[socks]->gdown->gcpds-image-segmentation==0.1a0) (2.10)\n",
            "Requirement already satisfied: urllib3<1.27,>=1.21.1 in /usr/local/lib/python3.9/dist-packages (from requests[socks]->gdown->gcpds-image-segmentation==0.1a0) (1.26.15)\n",
            "Requirement already satisfied: certifi>=2017.4.17 in /usr/local/lib/python3.9/dist-packages (from requests[socks]->gdown->gcpds-image-segmentation==0.1a0) (2022.12.7)\n",
            "Requirement already satisfied: chardet<5,>=3.0.2 in /usr/local/lib/python3.9/dist-packages (from requests[socks]->gdown->gcpds-image-segmentation==0.1a0) (4.0.0)\n",
            "Requirement already satisfied: PySocks!=1.5.7,>=1.5.6 in /usr/local/lib/python3.9/dist-packages (from requests[socks]->gdown->gcpds-image-segmentation==0.1a0) (1.7.1)\n",
            "Building wheels for collected packages: gcpds-image-segmentation\n",
            "  Building wheel for gcpds-image-segmentation (setup.py) ... \u001b[?25l\u001b[?25hdone\n",
            "  Created wheel for gcpds-image-segmentation: filename=gcpds_image_segmentation-0.1a0-py3-none-any.whl size=33684 sha256=1d19e4ca9451222d7fd0c79ee44040fce9941c056d3a4db04bd2c3eb3fe1554d\n",
            "  Stored in directory: /tmp/pip-ephem-wheel-cache-mr5bp7sx/wheels/93/3d/96/2bc458dca20d46cfdf8f50c9871f921c847eb0324c71eb3f60\n",
            "Successfully built gcpds-image-segmentation\n",
            "Installing collected packages: gcpds-image-segmentation\n",
            "Successfully installed gcpds-image-segmentation-0.1a0\n"
          ]
        }
      ]
    },
    {
      "cell_type": "code",
      "source": [
        "!git clone https://github.com/hdperezn/MIDI_functions.git\n",
        "!sudo apt install -y fluidsynth\n",
        "!pip install --upgrade pyfluidsynth\n",
        "!pip install pretty_midi"
      ],
      "metadata": {
        "id": "RuI5UccgKx29",
        "colab": {
          "base_uri": "https://localhost:8080/"
        },
        "outputId": "926ba42a-8a87-4a85-e7db-7011f7675e61"
      },
      "execution_count": 3,
      "outputs": [
        {
          "output_type": "stream",
          "name": "stdout",
          "text": [
            "Cloning into 'MIDI_functions'...\n",
            "remote: Enumerating objects: 118, done.\u001b[K\n",
            "remote: Counting objects: 100% (118/118), done.\u001b[K\n",
            "remote: Compressing objects: 100% (103/103), done.\u001b[K\n",
            "remote: Total 118 (delta 33), reused 73 (delta 10), pack-reused 0\u001b[K\n",
            "Receiving objects: 100% (118/118), 6.54 MiB | 12.57 MiB/s, done.\n",
            "Resolving deltas: 100% (33/33), done.\n",
            "Reading package lists... Done\n",
            "Building dependency tree       \n",
            "Reading state information... Done\n",
            "The following additional packages will be installed:\n",
            "  fluid-soundfont-gm libfluidsynth2 libinstpatch-1.0-2 qsynth\n",
            "  timgm6mb-soundfont\n",
            "Suggested packages:\n",
            "  fluid-soundfont-gs timidity jackd musescore\n",
            "The following NEW packages will be installed:\n",
            "  fluid-soundfont-gm fluidsynth libfluidsynth2 libinstpatch-1.0-2 qsynth\n",
            "  timgm6mb-soundfont\n",
            "0 upgraded, 6 newly installed, 0 to remove and 23 not upgraded.\n",
            "Need to get 126 MB of archives.\n",
            "After this operation, 157 MB of additional disk space will be used.\n",
            "Get:1 http://archive.ubuntu.com/ubuntu focal/universe amd64 fluid-soundfont-gm all 3.1-5.1 [119 MB]\n",
            "Get:2 http://archive.ubuntu.com/ubuntu focal/universe amd64 libinstpatch-1.0-2 amd64 1.1.2-2build1 [238 kB]\n",
            "Get:3 http://archive.ubuntu.com/ubuntu focal/universe amd64 timgm6mb-soundfont all 1.3-3 [5,420 kB]\n",
            "Get:4 http://archive.ubuntu.com/ubuntu focal/universe amd64 libfluidsynth2 amd64 2.1.1-2 [198 kB]\n",
            "Get:5 http://archive.ubuntu.com/ubuntu focal/universe amd64 fluidsynth amd64 2.1.1-2 [25.6 kB]\n",
            "Get:6 http://archive.ubuntu.com/ubuntu focal/universe amd64 qsynth amd64 0.6.1-1build1 [245 kB]\n",
            "Fetched 126 MB in 6s (21.0 MB/s)\n",
            "debconf: unable to initialize frontend: Dialog\n",
            "debconf: (No usable dialog-like program is installed, so the dialog based frontend cannot be used. at /usr/share/perl5/Debconf/FrontEnd/Dialog.pm line 76, <> line 6.)\n",
            "debconf: falling back to frontend: Readline\n",
            "debconf: unable to initialize frontend: Readline\n",
            "debconf: (This frontend requires a controlling tty.)\n",
            "debconf: falling back to frontend: Teletype\n",
            "dpkg-preconfigure: unable to re-open stdin: \n",
            "Selecting previously unselected package fluid-soundfont-gm.\n",
            "(Reading database ... 128276 files and directories currently installed.)\n",
            "Preparing to unpack .../0-fluid-soundfont-gm_3.1-5.1_all.deb ...\n",
            "Unpacking fluid-soundfont-gm (3.1-5.1) ...\n",
            "Selecting previously unselected package libinstpatch-1.0-2:amd64.\n",
            "Preparing to unpack .../1-libinstpatch-1.0-2_1.1.2-2build1_amd64.deb ...\n",
            "Unpacking libinstpatch-1.0-2:amd64 (1.1.2-2build1) ...\n",
            "Selecting previously unselected package timgm6mb-soundfont.\n",
            "Preparing to unpack .../2-timgm6mb-soundfont_1.3-3_all.deb ...\n",
            "Unpacking timgm6mb-soundfont (1.3-3) ...\n",
            "Selecting previously unselected package libfluidsynth2:amd64.\n",
            "Preparing to unpack .../3-libfluidsynth2_2.1.1-2_amd64.deb ...\n",
            "Unpacking libfluidsynth2:amd64 (2.1.1-2) ...\n",
            "Selecting previously unselected package fluidsynth.\n",
            "Preparing to unpack .../4-fluidsynth_2.1.1-2_amd64.deb ...\n",
            "Unpacking fluidsynth (2.1.1-2) ...\n",
            "Selecting previously unselected package qsynth.\n",
            "Preparing to unpack .../5-qsynth_0.6.1-1build1_amd64.deb ...\n",
            "Unpacking qsynth (0.6.1-1build1) ...\n",
            "Setting up fluid-soundfont-gm (3.1-5.1) ...\n",
            "Setting up timgm6mb-soundfont (1.3-3) ...\n",
            "update-alternatives: using /usr/share/sounds/sf2/TimGM6mb.sf2 to provide /usr/share/sounds/sf2/default-GM.sf2 (default-GM.sf2) in auto mode\n",
            "update-alternatives: using /usr/share/sounds/sf2/TimGM6mb.sf2 to provide /usr/share/sounds/sf3/default-GM.sf3 (default-GM.sf3) in auto mode\n",
            "Setting up libinstpatch-1.0-2:amd64 (1.1.2-2build1) ...\n",
            "Setting up libfluidsynth2:amd64 (2.1.1-2) ...\n",
            "Setting up qsynth (0.6.1-1build1) ...\n",
            "Setting up fluidsynth (2.1.1-2) ...\n",
            "Created symlink /etc/systemd/user/multi-user.target.wants/fluidsynth.service → /usr/lib/systemd/user/fluidsynth.service.\n",
            "Processing triggers for hicolor-icon-theme (0.17-2) ...\n",
            "Processing triggers for libc-bin (2.31-0ubuntu9.9) ...\n",
            "Processing triggers for man-db (2.9.1-1) ...\n",
            "Processing triggers for mime-support (3.64ubuntu1) ...\n",
            "Looking in indexes: https://pypi.org/simple, https://us-python.pkg.dev/colab-wheels/public/simple/\n",
            "Collecting pyfluidsynth\n",
            "  Downloading pyFluidSynth-1.3.2-py3-none-any.whl (19 kB)\n",
            "Requirement already satisfied: numpy in /usr/local/lib/python3.9/dist-packages (from pyfluidsynth) (1.22.4)\n",
            "Installing collected packages: pyfluidsynth\n",
            "Successfully installed pyfluidsynth-1.3.2\n",
            "Looking in indexes: https://pypi.org/simple, https://us-python.pkg.dev/colab-wheels/public/simple/\n",
            "Collecting pretty_midi\n",
            "  Downloading pretty_midi-0.2.10.tar.gz (5.6 MB)\n",
            "\u001b[2K     \u001b[90m━━━━━━━━━━━━━━━━━━━━━━━━━━━━━━━━━━━━━━━━\u001b[0m \u001b[32m5.6/5.6 MB\u001b[0m \u001b[31m39.8 MB/s\u001b[0m eta \u001b[36m0:00:00\u001b[0m\n",
            "\u001b[?25h  Preparing metadata (setup.py) ... \u001b[?25l\u001b[?25hdone\n",
            "Requirement already satisfied: numpy>=1.7.0 in /usr/local/lib/python3.9/dist-packages (from pretty_midi) (1.22.4)\n",
            "Collecting mido>=1.1.16\n",
            "  Downloading mido-1.2.10-py2.py3-none-any.whl (51 kB)\n",
            "\u001b[2K     \u001b[90m━━━━━━━━━━━━━━━━━━━━━━━━━━━━━━━━━━━━━━━━\u001b[0m \u001b[32m51.1/51.1 KB\u001b[0m \u001b[31m5.5 MB/s\u001b[0m eta \u001b[36m0:00:00\u001b[0m\n",
            "\u001b[?25hRequirement already satisfied: six in /usr/local/lib/python3.9/dist-packages (from pretty_midi) (1.15.0)\n",
            "Building wheels for collected packages: pretty_midi\n",
            "  Building wheel for pretty_midi (setup.py) ... \u001b[?25l\u001b[?25hdone\n",
            "  Created wheel for pretty_midi: filename=pretty_midi-0.2.10-py3-none-any.whl size=5592303 sha256=85aa625a19b5e4b7b7da3f997f67c4b58786c90c1db4d6566a67438add3942e8\n",
            "  Stored in directory: /root/.cache/pip/wheels/75/ec/20/b8e937a5bcf1de547ea5ce465db7de7f6761e15e6f0a01e25f\n",
            "Successfully built pretty_midi\n",
            "Installing collected packages: mido, pretty_midi\n",
            "Successfully installed mido-1.2.10 pretty_midi-0.2.10\n"
          ]
        }
      ]
    },
    {
      "cell_type": "code",
      "execution_count": 4,
      "metadata": {
        "id": "I6PzUnml8yaF"
      },
      "outputs": [],
      "source": [
        "import numpy as np\n",
        "import matplotlib.pyplot as plt\n",
        "\n",
        "\n",
        "import fluidsynth\n",
        "import glob\n",
        "import pathlib\n",
        "import pretty_midi\n",
        "\n",
        "from IPython import display\n",
        "from MIDI_functions.functions.MIDI_functions import cut_midi_secTrial\n",
        "from MIDI_functions.functions.UNetLike_PianoRolls import UNet_Pianoroll\n",
        "\n",
        "# from tensorflow.keras import layers\n",
        "# from tensorflow.keras.regularizers import l1_l2\n",
        "#from sklearn.base import  BaseEstimator, TransformerMixin, ClassifierMixin\n"
      ]
    },
    {
      "cell_type": "markdown",
      "source": [
        "# Create Train test files "
      ],
      "metadata": {
        "id": "vIxDNt0qPS4W"
      }
    },
    {
      "cell_type": "markdown",
      "source": [
        "paths from the MIDI data"
      ],
      "metadata": {
        "id": "DGI2mEuMhrcG"
      }
    },
    {
      "cell_type": "code",
      "source": [
        "path_midi = '/content/MIDI_functions/deap_midis'\n",
        "data_dir = pathlib.Path(path_midi)\n",
        "filenames = glob.glob(str(data_dir/'*.mid*'))\n",
        "print('Number of files:', len(filenames))"
      ],
      "metadata": {
        "colab": {
          "base_uri": "https://localhost:8080/"
        },
        "id": "9Ly_n-o0huDZ",
        "outputId": "1932587d-ba9f-4c20-f309-c2798b437d0a"
      },
      "execution_count": 5,
      "outputs": [
        {
          "output_type": "stream",
          "name": "stdout",
          "text": [
            "Number of files: 40\n"
          ]
        }
      ]
    },
    {
      "cell_type": "markdown",
      "source": [
        "Sampling rate (_SAMPLING_RATE) for audio playback and frequency (fProll) to create piano rolls\n"
      ],
      "metadata": {
        "id": "VVQPHmOmh0-v"
      }
    },
    {
      "cell_type": "code",
      "source": [
        "_SAMPLING_RATE = 16000\n",
        "fProll = 20"
      ],
      "metadata": {
        "id": "Rn6yXUGCP0uf"
      },
      "execution_count": 6,
      "outputs": []
    },
    {
      "cell_type": "markdown",
      "source": [
        "windowed piano roll arrays"
      ],
      "metadata": {
        "id": "0g3E2k0Rh9Pz"
      }
    },
    {
      "cell_type": "code",
      "source": [
        "Prolls_windowed = []\n",
        "for i in range(len(filenames)):   \n",
        "  #load MIDI and create array\n",
        "  Proll = pretty_midi.PrettyMIDI(filenames[i]).get_piano_roll(fs=fProll) \n",
        "  if i in [0, 13, 16, 21, 39]:\n",
        "    Proll_cut = cut_midi_secTrial(Proll, 9)\n",
        "  elif i in [9, 11]:\n",
        "    Proll_cut = cut_midi_secTrial(Proll, 8)\n",
        "  else:\n",
        "    Proll_cut = cut_midi_secTrial(Proll, 10)     \n",
        "  Prolls_windowed.append(Proll_cut) "
      ],
      "metadata": {
        "id": "ak57Ao0NPxK1"
      },
      "execution_count": 7,
      "outputs": []
    },
    {
      "cell_type": "markdown",
      "source": [
        "calculate te mode to cut any sample at the same Length\n"
      ],
      "metadata": {
        "id": "F_faNUcMiISt"
      }
    },
    {
      "cell_type": "code",
      "source": [
        "midi_lens = []\n",
        "for i in range(len(Prolls_windowed)):\n",
        "  midi_lens.append(Prolls_windowed[i].shape[2])\n",
        "from statistics import mode\n",
        "mode(midi_lens)"
      ],
      "metadata": {
        "colab": {
          "base_uri": "https://localhost:8080/"
        },
        "id": "fMMxW107QtET",
        "outputId": "43c8f59a-d615-4700-e990-5794ab86570c"
      },
      "execution_count": 8,
      "outputs": [
        {
          "output_type": "execute_result",
          "data": {
            "text/plain": [
              "119"
            ]
          },
          "metadata": {},
          "execution_count": 8
        }
      ]
    },
    {
      "cell_type": "markdown",
      "source": [
        "Create array with equal dims 128 padding last samples"
      ],
      "metadata": {
        "id": "POU4XtDHiMtV"
      }
    },
    {
      "cell_type": "code",
      "source": [
        "Prolls_cut = []\n",
        "Prolls_trial_len = 128 #64, 59\n",
        "for i in range(len(Prolls_windowed)):\n",
        "  if Prolls_windowed[i].shape[2] >= Prolls_trial_len:\n",
        "    x = Prolls_windowed[i][:,:,0:Prolls_trial_len]\n",
        "    Prolls_cut.append(x)\n",
        "  else:\n",
        "    dif = Prolls_trial_len - Prolls_windowed[i].shape[2]\n",
        "    x = np.concatenate( (Prolls_windowed[i][:,:,:],Prolls_windowed[i][:,:,-dif::] ), axis = 2)\n",
        "    Prolls_cut.append(x)\n"
      ],
      "metadata": {
        "id": "un_WcP0HQpoc"
      },
      "execution_count": 9,
      "outputs": []
    },
    {
      "cell_type": "code",
      "source": [
        "song = 2\n",
        "\n",
        "plt.figure()\n",
        "plt.pcolormesh(Prolls_windowed[song][0,:,:])\n",
        "plt.colorbar()\n",
        "plt.ylim(20,80)\n",
        "plt.title(\"Piano roll windowed\")\n",
        "plt.show()\n",
        "\n",
        "plt.figure()\n",
        "plt.pcolormesh(Prolls_cut[song][0,:,:])\n",
        "plt.colorbar()\n",
        "plt.ylim(20,80)\n",
        "plt.title(\"Piano roll windowed and padding\")\n",
        "plt.show()"
      ],
      "metadata": {
        "colab": {
          "base_uri": "https://localhost:8080/",
          "height": 0
        },
        "id": "LdKFcKXYSfRF",
        "outputId": "a527d25f-d169-4660-d105-e56778916335"
      },
      "execution_count": 10,
      "outputs": [
        {
          "output_type": "display_data",
          "data": {
            "text/plain": [
              "<Figure size 432x288 with 2 Axes>"
            ],
            "image/png": "[encoded data removed]"
          },
          "metadata": {
            "needs_background": "light"
          }
        },
        {
          "output_type": "display_data",
          "data": {
            "text/plain": [
              "<Figure size 432x288 with 2 Axes>"
            ],
            "image/png": "[encoded data removed]"
          },
          "metadata": {
            "needs_background": "light"
          }
        }
      ]
    },
    {
      "cell_type": "markdown",
      "source": [
        "Create a training array with dims (samples, time, notes), create raget mask   and spliting in traint and test sets\n"
      ],
      "metadata": {
        "id": "Mjo4PVQPim9z"
      }
    },
    {
      "cell_type": "code",
      "source": [
        "Prolls_array = np.concatenate(np.asarray(Prolls_cut), axis = 0)\n",
        "Prolls_array_mask = np.where(Prolls_array>0,1,0)\n",
        "print('these are de dims of the piano roll array to use in the neural network: ', Prolls_array.shape)\n"
      ],
      "metadata": {
        "colab": {
          "base_uri": "https://localhost:8080/"
        },
        "id": "8NWu8WW_VFck",
        "outputId": "8a9dd794-b0b6-4862-88e2-ce923e3cf3b4"
      },
      "execution_count": 11,
      "outputs": [
        {
          "output_type": "stream",
          "name": "stdout",
          "text": [
            "these are de dims of the piano roll array to use in the neural network:  (391, 128, 128)\n"
          ]
        },
        {
          "output_type": "stream",
          "name": "stderr",
          "text": [
            "<ipython-input-11-96c1be7432f6>:1: VisibleDeprecationWarning: Creating an ndarray from ragged nested sequences (which is a list-or-tuple of lists-or-tuples-or ndarrays with different lengths or shapes) is deprecated. If you meant to do this, you must specify 'dtype=object' when creating the ndarray.\n",
            "  Prolls_array = np.concatenate(np.asarray(Prolls_cut), axis = 0)\n"
          ]
        }
      ]
    },
    {
      "cell_type": "code",
      "source": [
        "#train_test_data\n",
        "\n",
        "X_train = Prolls_array[0:313,8:88,:,np.newaxis].astype('float32').transpose(0,2,1,3)\n",
        "X_test = Prolls_array[313::,8:88,:, np.newaxis].astype('float32').transpose(0,2,1,3)\n",
        "\n",
        "\n",
        "y_train = Prolls_array_mask[0:313,8:88,:,np.newaxis].astype('float32').transpose(0,2,1,3)\n",
        "y_test = Prolls_array_mask[313::,8:88,:,np.newaxis].astype('float32').transpose(0,2,1,3)\n",
        "\n",
        "\n",
        "X_dims = X_train.shape\n",
        "print(X_dims)"
      ],
      "metadata": {
        "colab": {
          "base_uri": "https://localhost:8080/"
        },
        "id": "zySTW6UBxqMv",
        "outputId": "71926e5e-2254-49df-aa76-75bd5de589d9"
      },
      "execution_count": 12,
      "outputs": [
        {
          "output_type": "stream",
          "name": "stdout",
          "text": [
            "(313, 128, 80, 1)\n"
          ]
        }
      ]
    },
    {
      "cell_type": "markdown",
      "source": [
        "# Load Model"
      ],
      "metadata": {
        "id": "W2yYsBZJjeGW"
      }
    },
    {
      "cell_type": "markdown",
      "source": [
        "creating a model \"UNet_pianoroll\" and load the weigths"
      ],
      "metadata": {
        "id": "g6p416NDo65K"
      }
    },
    {
      "cell_type": "code",
      "source": [
        "img_size = X_dims[-3::]\n",
        "num_classes = 1\n",
        "loss = DiceCoefficient()\n",
        "\n",
        "UNet_pianoroll = UNet_Pianoroll(img_size, loss, num_classes, epochs=250,batch_size=32,\n",
        "               learning_rate=1e-3, droprate = 0.6)"
      ],
      "metadata": {
        "id": "TO9O9yW5jiyf"
      },
      "execution_count": 13,
      "outputs": []
    },
    {
      "cell_type": "code",
      "source": [
        "UNet_pianoroll.get_model()\n",
        "\n",
        "UNet_pianoroll.model.load_weights('/content/MIDI_functions/Unet_piano_rolls_models/UnetLike_PianoRoll_3encoding.h5')\n",
        "UNet_pianoroll.model.summary()"
      ],
      "metadata": {
        "id": "wNhYC8PPl5_Q",
        "outputId": "e9cf6101-b343-425f-a892-52dcef04a774",
        "colab": {
          "base_uri": "https://localhost:8080/"
        }
      },
      "execution_count": 14,
      "outputs": [
        {
          "output_type": "stream",
          "name": "stdout",
          "text": [
            "Model: \"UNet_MIDI\"\n",
            "__________________________________________________________________________________________________\n",
            " Layer (type)                   Output Shape         Param #     Connected to                     \n",
            "==================================================================================================\n",
            " input_1 (InputLayer)           [(None, 128, 80, 1)  0           []                               \n",
            "                                ]                                                                 \n",
            "                                                                                                  \n",
            " encoder (Functional)           [(None, 16, 10, 128  46112       ['input_1[0][0]']                \n",
            "                                ),                                                                \n",
            "                                 (None, 16, 10, 128                                               \n",
            "                                )]                                                                \n",
            "                                                                                                  \n",
            " Decoder (Functional)           (None, 128, 80, 1)   462529      ['encoder[0][0]',                \n",
            "                                                                  'encoder[0][1]']                \n",
            "                                                                                                  \n",
            "==================================================================================================\n",
            "Total params: 508,641\n",
            "Trainable params: 506,913\n",
            "Non-trainable params: 1,728\n",
            "__________________________________________________________________________________________________\n"
          ]
        }
      ]
    },
    {
      "cell_type": "markdown",
      "source": [
        "prediction and plots"
      ],
      "metadata": {
        "id": "ZZYrpBnNpDis"
      }
    },
    {
      "cell_type": "code",
      "source": [
        "X_hat_test = UNet_pianoroll.predict(X_test[:,:,:])"
      ],
      "metadata": {
        "id": "8tr6tqZtpNTl",
        "outputId": "63869c1e-b229-47a3-f7f1-f95844e89bc1",
        "colab": {
          "base_uri": "https://localhost:8080/"
        }
      },
      "execution_count": 15,
      "outputs": [
        {
          "output_type": "stream",
          "name": "stdout",
          "text": [
            "3/3 [==============================] - 6s 1s/step\n"
          ]
        }
      ]
    },
    {
      "cell_type": "code",
      "source": [
        "sample = 30\n",
        "result_array = X_test[sample,:,:,0]\n",
        "plt.figure()\n",
        "plt.pcolormesh(result_array.T)\n",
        "plt.colorbar()\n",
        "plt.title(\"Orginal\")\n",
        "plt.show()\n",
        "\n",
        "\n",
        "result_array = X_hat_test[sample,:,:,0]\n",
        "plt.figure()\n",
        "plt.pcolormesh(result_array.T)\n",
        "plt.colorbar()\n",
        "plt.title(\"Prediction\")\n",
        "plt.show()\n"
      ],
      "metadata": {
        "id": "8B66spizpSUu",
        "outputId": "e18d6721-4cbf-4ca1-ec45-50bd6e30ae9b",
        "colab": {
          "base_uri": "https://localhost:8080/",
          "height": 545
        }
      },
      "execution_count": 17,
      "outputs": [
        {
          "output_type": "display_data",
          "data": {
            "text/plain": [
              "<Figure size 432x288 with 2 Axes>"
            ],
            "image/png": "[encoded data removed]"
          },
          "metadata": {
            "needs_background": "light"
          }
        },
        {
          "output_type": "display_data",
          "data": {
            "text/plain": [
              "<Figure size 432x288 with 2 Axes>"
            ],
            "image/png": "[encoded data removed]"
          },
          "metadata": {
            "needs_background": "light"
          }
        }
      ]
    }
  ]
}